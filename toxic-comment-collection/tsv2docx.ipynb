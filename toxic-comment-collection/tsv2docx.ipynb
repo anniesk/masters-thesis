{
 "cells": [
  {
   "cell_type": "code",
   "execution_count": 9,
   "id": "5f1aa212-898f-4847-a2eb-e7c0a75a012f",
   "metadata": {},
   "outputs": [
    {
     "name": "stdout",
     "output_type": "stream",
     "text": [
      "['id', 'file_platform', 'file_language', 'file_name', 'text', 'labels']\n"
     ]
    }
   ],
   "source": [
    "import csv\n",
    "import itertools\n",
    "\n",
    "all_data=[]\n",
    "with open(\"files/combined.tsv\") as f:\n",
    "    comb_reader=csv.reader(f,dialect=csv.excel_tab)\n",
    "    names=next(comb_reader)\n",
    "    print(names)\n",
    "    for x in comb_reader:\n",
    "        assert(len(x)==6)\n",
    "        all_data.append(x)\n",
    "        \n",
    "        \n"
   ]
  },
  {
   "cell_type": "code",
   "execution_count": 26,
   "id": "c9341bdc-a9ea-4740-b1ca-c993f02437ff",
   "metadata": {},
   "outputs": [],
   "source": [
    "import docx\n",
    "\n",
    "class TSVDOCX(object):\n",
    "    \n",
    "    def __init__(self,path_format=\"out/out_{counter:05d}.docx\",cutoff=950000):\n",
    "        self.path_format=path_format\n",
    "        self.file_counter=0\n",
    "        self.current_file=docx.Document()\n",
    "        self.current_len=0\n",
    "        self.cutoff=cutoff\n",
    "    \n",
    "    def __del__(self):\n",
    "        if self.current_len>0:\n",
    "            self.save_and_make_new()\n",
    "        \n",
    "    def save_and_make_new(self):\n",
    "        fname=self.path_format.format(counter=self.file_counter)\n",
    "        self.current_file.save(fname)\n",
    "        self.current_file=docx.Document()\n",
    "        self.file_counter+=1\n",
    "        self.current_len=0\n",
    "        print(fname,\" ...saved\")\n",
    "        \n",
    "    def new_example(self,idx,txt):\n",
    "        if self.current_len+len(txt)+len(str(idx))+3>self.cutoff:\n",
    "            self.save_and_make_new()\n",
    "        pgraph=self.current_file.add_paragraph(\"\")\n",
    "        run=pgraph.add_run(str(idx))\n",
    "        run.bold=True\n",
    "        run.underline=True\n",
    "        pgraph=self.current_file.add_paragraph(txt)\n",
    "        self.current_len+=len(txt)+len(str(idx))+3\n",
    "        \n",
    "        "
   ]
  },
  {
   "cell_type": "code",
   "execution_count": 40,
   "id": "77b34045-a6ec-4491-bfbe-e3c444b41ab2",
   "metadata": {},
   "outputs": [
    {
     "name": "stderr",
     "output_type": "stream",
     "text": [
      "802385it [00:02, 326246.34it/s] \n"
     ]
    }
   ],
   "source": [
    "import bs4\n",
    "import re\n",
    "\n",
    "with open(\"soup.txt\",\"wt\") as f:\n",
    "    for idx, (id,file_platform,file_language,file_name,text,labels) in tqdm.tqdm(enumerate(all_data)):\n",
    "        if \"bretschneider2016en\" in file_name:\n",
    "            soup=bs4.BeautifulSoup(text)\n",
    "            text=soup.getText()\n",
    "            text=re.sub(\"\\n +\",\"\\n\",text).strip()\n",
    "            text=re.sub(\"\\n{3,}\",\"\\n\\n\",text)\n",
    "            print(text,file=f,end=\"\\n\\n-------------------\\n\\n\")"
   ]
  },
  {
   "cell_type": "code",
   "execution_count": 50,
   "id": "f8eb092b-580b-45c5-91a5-b02e158a150d",
   "metadata": {},
   "outputs": [
    {
     "name": "stderr",
     "output_type": "stream",
     "text": [
      "57374it [00:20, 88804.02it/s]"
     ]
    },
    {
     "name": "stdout",
     "output_type": "stream",
     "text": [
      "out/out_en_00000.docx  ...saved\n"
     ]
    },
    {
     "name": "stderr",
     "output_type": "stream",
     "text": [
      "66399it [00:29, 3318.13it/s] "
     ]
    },
    {
     "name": "stdout",
     "output_type": "stream",
     "text": [
      "out/out_en_00001.docx  ...saved\n"
     ]
    },
    {
     "name": "stderr",
     "output_type": "stream",
     "text": [
      "77221it [00:40, 1748.36it/s]"
     ]
    },
    {
     "name": "stdout",
     "output_type": "stream",
     "text": [
      "out/out_en_00002.docx  ...saved\n"
     ]
    },
    {
     "name": "stderr",
     "output_type": "stream",
     "text": [
      "88896it [00:52, 850.81it/s] "
     ]
    },
    {
     "name": "stdout",
     "output_type": "stream",
     "text": [
      "out/out_en_00003.docx  ...saved\n"
     ]
    },
    {
     "name": "stderr",
     "output_type": "stream",
     "text": [
      "97377it [00:59, 832.19it/s] "
     ]
    },
    {
     "name": "stdout",
     "output_type": "stream",
     "text": [
      "out/out_en_00004.docx  ...saved\n"
     ]
    },
    {
     "name": "stderr",
     "output_type": "stream",
     "text": [
      "102973it [01:04, 895.65it/s] "
     ]
    },
    {
     "name": "stdout",
     "output_type": "stream",
     "text": [
      "out/out_en_00005.docx  ...saved\n"
     ]
    },
    {
     "name": "stderr",
     "output_type": "stream",
     "text": [
      "108498it [01:10, 892.75it/s] "
     ]
    },
    {
     "name": "stdout",
     "output_type": "stream",
     "text": [
      "out/out_en_00006.docx  ...saved\n"
     ]
    },
    {
     "name": "stderr",
     "output_type": "stream",
     "text": [
      "113927it [01:15, 865.23it/s] "
     ]
    },
    {
     "name": "stdout",
     "output_type": "stream",
     "text": [
      "out/out_en_00007.docx  ...saved\n"
     ]
    },
    {
     "name": "stderr",
     "output_type": "stream",
     "text": [
      "119354it [01:20, 887.46it/s] "
     ]
    },
    {
     "name": "stdout",
     "output_type": "stream",
     "text": [
      "out/out_en_00008.docx  ...saved\n"
     ]
    },
    {
     "name": "stderr",
     "output_type": "stream",
     "text": [
      "124797it [01:25, 805.83it/s] "
     ]
    },
    {
     "name": "stdout",
     "output_type": "stream",
     "text": [
      "out/out_en_00009.docx  ...saved\n"
     ]
    },
    {
     "name": "stderr",
     "output_type": "stream",
     "text": [
      "130050it [01:30, 829.65it/s] "
     ]
    },
    {
     "name": "stdout",
     "output_type": "stream",
     "text": [
      "out/out_en_00010.docx  ...saved\n"
     ]
    },
    {
     "name": "stderr",
     "output_type": "stream",
     "text": [
      "133573it [01:33, 918.55it/s] "
     ]
    },
    {
     "name": "stdout",
     "output_type": "stream",
     "text": [
      "out/out_en_00011.docx  ...saved\n"
     ]
    },
    {
     "name": "stderr",
     "output_type": "stream",
     "text": [
      "136813it [01:36, 945.27it/s] "
     ]
    },
    {
     "name": "stdout",
     "output_type": "stream",
     "text": [
      "out/out_en_00012.docx  ...saved\n"
     ]
    },
    {
     "name": "stderr",
     "output_type": "stream",
     "text": [
      "140699it [01:40, 906.05it/s] "
     ]
    },
    {
     "name": "stdout",
     "output_type": "stream",
     "text": [
      "out/out_en_00013.docx  ...saved\n"
     ]
    },
    {
     "name": "stderr",
     "output_type": "stream",
     "text": [
      "144129it [01:43, 881.70it/s] "
     ]
    },
    {
     "name": "stdout",
     "output_type": "stream",
     "text": [
      "out/out_en_00014.docx  ...saved\n"
     ]
    },
    {
     "name": "stderr",
     "output_type": "stream",
     "text": [
      "147520it [01:46, 895.69it/s] "
     ]
    },
    {
     "name": "stdout",
     "output_type": "stream",
     "text": [
      "out/out_en_00015.docx  ...saved\n"
     ]
    },
    {
     "name": "stderr",
     "output_type": "stream",
     "text": [
      "150786it [01:49, 929.82it/s] "
     ]
    },
    {
     "name": "stdout",
     "output_type": "stream",
     "text": [
      "out/out_en_00016.docx  ...saved\n"
     ]
    },
    {
     "name": "stderr",
     "output_type": "stream",
     "text": [
      "158905it [01:57, 910.14it/s] "
     ]
    },
    {
     "name": "stdout",
     "output_type": "stream",
     "text": [
      "out/out_en_00017.docx  ...saved\n"
     ]
    },
    {
     "name": "stderr",
     "output_type": "stream",
     "text": [
      "167141it [02:05, 886.38it/s] "
     ]
    },
    {
     "name": "stdout",
     "output_type": "stream",
     "text": [
      "out/out_en_00018.docx  ...saved\n"
     ]
    },
    {
     "name": "stderr",
     "output_type": "stream",
     "text": [
      "176940it [02:15, 845.20it/s] "
     ]
    },
    {
     "name": "stdout",
     "output_type": "stream",
     "text": [
      "out/out_en_00019.docx  ...saved\n"
     ]
    },
    {
     "name": "stderr",
     "output_type": "stream",
     "text": [
      "182085it [02:22, 922.64it/s] "
     ]
    },
    {
     "name": "stdout",
     "output_type": "stream",
     "text": [
      "out/out_en_00020.docx  ...saved\n"
     ]
    },
    {
     "name": "stderr",
     "output_type": "stream",
     "text": [
      "193543it [02:32, 743.35it/s] "
     ]
    },
    {
     "name": "stdout",
     "output_type": "stream",
     "text": [
      "out/out_hi_00000.docx  ...saved\n"
     ]
    },
    {
     "name": "stderr",
     "output_type": "stream",
     "text": [
      "195247it [02:33, 963.33it/s] "
     ]
    },
    {
     "name": "stdout",
     "output_type": "stream",
     "text": [
      "out/out_de_00000.docx  ...saved\n"
     ]
    },
    {
     "name": "stderr",
     "output_type": "stream",
     "text": [
      "206562it [02:43, 1031.63it/s]"
     ]
    },
    {
     "name": "stdout",
     "output_type": "stream",
     "text": [
      "out/out_id_00000.docx  ...saved\n"
     ]
    },
    {
     "name": "stderr",
     "output_type": "stream",
     "text": [
      "214517it [02:51, 1033.20it/s]"
     ]
    },
    {
     "name": "stdout",
     "output_type": "stream",
     "text": [
      "out/out_id_00001.docx  ...saved\n"
     ]
    },
    {
     "name": "stderr",
     "output_type": "stream",
     "text": [
      "231633it [03:02, 1359.06it/s] "
     ]
    },
    {
     "name": "stdout",
     "output_type": "stream",
     "text": [
      "out/out_en_00021.docx  ...saved\n"
     ]
    },
    {
     "name": "stderr",
     "output_type": "stream",
     "text": [
      "238705it [03:09, 906.25it/s] "
     ]
    },
    {
     "name": "stdout",
     "output_type": "stream",
     "text": [
      "out/out_en_00022.docx  ...saved\n"
     ]
    },
    {
     "name": "stderr",
     "output_type": "stream",
     "text": [
      "246295it [03:16, 871.67it/s] "
     ]
    },
    {
     "name": "stdout",
     "output_type": "stream",
     "text": [
      "out/out_en_00023.docx  ...saved\n"
     ]
    },
    {
     "name": "stderr",
     "output_type": "stream",
     "text": [
      "253281it [03:23, 941.51it/s] "
     ]
    },
    {
     "name": "stdout",
     "output_type": "stream",
     "text": [
      "out/out_en_00024.docx  ...saved\n"
     ]
    },
    {
     "name": "stderr",
     "output_type": "stream",
     "text": [
      "260141it [03:29, 916.85it/s] "
     ]
    },
    {
     "name": "stdout",
     "output_type": "stream",
     "text": [
      "out/out_en_00025.docx  ...saved\n"
     ]
    },
    {
     "name": "stderr",
     "output_type": "stream",
     "text": [
      "267016it [03:35, 811.62it/s] "
     ]
    },
    {
     "name": "stdout",
     "output_type": "stream",
     "text": [
      "out/out_en_00026.docx  ...saved\n"
     ]
    },
    {
     "name": "stderr",
     "output_type": "stream",
     "text": [
      "273952it [03:42, 922.89it/s] "
     ]
    },
    {
     "name": "stdout",
     "output_type": "stream",
     "text": [
      "out/out_en_00027.docx  ...saved\n"
     ]
    },
    {
     "name": "stderr",
     "output_type": "stream",
     "text": [
      "280976it [03:48, 1041.91it/s]"
     ]
    },
    {
     "name": "stdout",
     "output_type": "stream",
     "text": [
      "out/out_en_00028.docx  ...saved\n"
     ]
    },
    {
     "name": "stderr",
     "output_type": "stream",
     "text": [
      "289393it [03:56, 1019.76it/s]"
     ]
    },
    {
     "name": "stdout",
     "output_type": "stream",
     "text": [
      "out/out_en_00029.docx  ...saved\n"
     ]
    },
    {
     "name": "stderr",
     "output_type": "stream",
     "text": [
      "696023it [03:57, 714213.89it/s]"
     ]
    },
    {
     "name": "stdout",
     "output_type": "stream",
     "text": [
      "out/out_gr_00000.docx  ...saved\n",
      "out/out_gr_00001.docx  ...saved\n"
     ]
    },
    {
     "name": "stderr",
     "output_type": "stream",
     "text": [
      "714982it [04:14, 10783.75it/s] "
     ]
    },
    {
     "name": "stdout",
     "output_type": "stream",
     "text": [
      "out/out_gr_00002.docx  ...saved\n",
      "out/out_gr_00003.docx  ...saved\n"
     ]
    },
    {
     "name": "stderr",
     "output_type": "stream",
     "text": [
      "733965it [04:34, 3910.74it/s] "
     ]
    },
    {
     "name": "stdout",
     "output_type": "stream",
     "text": [
      "out/out_gr_00004.docx  ...saved\n",
      "out/out_gr_00005.docx  ...saved\n",
      "out/out_gr_00006.docx  ...saved\n"
     ]
    },
    {
     "name": "stderr",
     "output_type": "stream",
     "text": [
      "755074it [04:54, 2232.23it/s]"
     ]
    },
    {
     "name": "stdout",
     "output_type": "stream",
     "text": [
      "out/out_gr_00007.docx  ...saved\n",
      "out/out_gr_00008.docx  ...saved\n"
     ]
    },
    {
     "name": "stderr",
     "output_type": "stream",
     "text": [
      "786303it [05:13, 1992.84it/s]"
     ]
    },
    {
     "name": "stdout",
     "output_type": "stream",
     "text": [
      "out/out_en_00030.docx  ...saved\n"
     ]
    },
    {
     "name": "stderr",
     "output_type": "stream",
     "text": [
      "798780it [05:24, 1652.88it/s]"
     ]
    },
    {
     "name": "stdout",
     "output_type": "stream",
     "text": [
      "out/out_en_00031.docx  ...saved\n",
      "out/out_en_00032.docx  ...saved\n"
     ]
    },
    {
     "name": "stderr",
     "output_type": "stream",
     "text": [
      "802385it [05:30, 2425.18it/s]\n"
     ]
    },
    {
     "name": "stdout",
     "output_type": "stream",
     "text": [
      "out/out_it_00000.docx  ...saved\n",
      "out/out_de_00001.docx  ...saved\n",
      "out/out_fr_00000.docx  ...saved\n",
      "out/out_tr_00000.docx  ...saved\n",
      "out/out_id_00002.docx  ...saved\n",
      "out/out_pt_00000.docx  ...saved\n",
      "out/out_gr_00009.docx  ...saved\n",
      "out/out_hi_00001.docx  ...saved\n",
      "out/out_en_00033.docx  ...saved\n",
      "{'ar': 45276, 'en/fr/it': 856, 'hing': 11843, 'da': 2961, 'mr': 12114}\n"
     ]
    }
   ],
   "source": [
    "import json\n",
    "import tqdm\n",
    "import bs4\n",
    "\n",
    "lang_files={} #lang -> TSVDOCX\n",
    "for lang in \"it,de,fr,tr,id,pt,gr,hi,en\".split(\",\"):\n",
    "    lang_files[lang]=TSVDOCX(path_format=\"out/out_\"+lang+\"_{counter:05d}.docx\")\n",
    "\n",
    "skipped={}\n",
    "with open(\"examples_meta.jsonl\",\"wt\") as meta_f:\n",
    "    for idx, (id,file_platform,file_language,file_name,text,labels) in tqdm.tqdm(enumerate(all_data)):\n",
    "        if file_language not in lang_files:\n",
    "            skipped[file_language]=skipped.get(file_language,0)+1\n",
    "            continue\n",
    "        if \"wulczyn2017en\" in file_name:\n",
    "            continue\n",
    "        if not text.strip():\n",
    "            continue\n",
    "        if \"mandl2019hind\" in file_name:\n",
    "            file_language=\"hi\"\n",
    "        if \"mandl2019ger\" in file_name:\n",
    "            file_language=\"de\"\n",
    "        if \"bretschneider2016en\" in file_name:\n",
    "            soup=bs4.BeautifulSoup(text)\n",
    "            text=soup.getText()\n",
    "        text=re.sub(\"\\n +\",\"\\n\",text).strip()\n",
    "        text=re.sub(\"\\n{3,}\",\"\\n\\n\",text)\n",
    "        meta=json.dumps({\"idx\":idx,\"id\":id,\"file_platform\":file_platform,\"file_name\":file_name,\"out_lang\":file_language,\"orig\":(id,file_platform,file_language,file_name,labels)})\n",
    "        print(meta,file=meta_f)\n",
    "        lang_files[file_language].new_example(idx,text)\n",
    "del lang_files\n",
    "print(skipped)"
   ]
  },
  {
   "cell_type": "code",
   "execution_count": 45,
   "id": "97a97285-7e14-4e21-adef-582362585c0a",
   "metadata": {},
   "outputs": [
    {
     "name": "stdout",
     "output_type": "stream",
     "text": [
      "115693 115693 159436\n",
      "36915\n"
     ]
    }
   ],
   "source": [
    "l1 =set([ text for (id,file_platform,file_language,file_name,text,labels) in all_data if \"wulczyn2017en_attack\" in file_name])\n",
    "l2 =set([ text for (id,file_platform,file_language,file_name,text,labels) in all_data if \"wulczyn2017en_aggressive\" in file_name])\n",
    "l3 =set([ text for (id,file_platform,file_language,file_name,text,labels) in all_data if \"wulczyn2017en_toxic\" in file_name])\n",
    "print(len(l1),len(l2),len(l3))\n",
    "print(len(l1-l3))"
   ]
  },
  {
   "cell_type": "code",
   "execution_count": 48,
   "id": "0d3a9d63-f44c-43f3-b4b4-a39923852e36",
   "metadata": {},
   "outputs": [
    {
     "name": "stdout",
     "output_type": "stream",
     "text": [
      "802385\n",
      "551648\n"
     ]
    }
   ],
   "source": [
    "everything=[re.sub(\"\\s+\",\"\",text) for (id,file_platform,file_language,file_name,text,labels) in all_data]\n",
    "print(len(everything))\n",
    "print(len(set(everything)))"
   ]
  },
  {
   "cell_type": "code",
   "execution_count": 33,
   "id": "bb5ae796-08c8-435f-9468-66fb0ec31801",
   "metadata": {},
   "outputs": [],
   "source": [
    "del lang_files"
   ]
  }
 ],
 "metadata": {
  "kernelspec": {
   "display_name": "Python 3 (ipykernel)",
   "language": "python",
   "name": "python3"
  },
  "language_info": {
   "codemirror_mode": {
    "name": "ipython",
    "version": 3
   },
   "file_extension": ".py",
   "mimetype": "text/x-python",
   "name": "python",
   "nbconvert_exporter": "python",
   "pygments_lexer": "ipython3",
   "version": "3.8.10"
  }
 },
 "nbformat": 4,
 "nbformat_minor": 5
}
