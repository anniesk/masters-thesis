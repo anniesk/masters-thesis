{
 "cells": [
  {
   "cell_type": "code",
   "execution_count": 18,
   "id": "34449ceb-c647-4700-9092-7677858629ee",
   "metadata": {},
   "outputs": [
    {
     "name": "stdout",
     "output_type": "stream",
     "text": [
      "['id', 'file_platform', 'file_language', 'file_name', 'text', 'labels']\n"
     ]
    }
   ],
   "source": [
    "import csv\n",
    "import itertools\n",
    "import re\n",
    "\n",
    "all_data=[]\n",
    "with open(\"files/combined.tsv\") as f:\n",
    "    comb_reader=csv.reader(f,dialect=csv.excel_tab)\n",
    "    names=next(comb_reader)\n",
    "    print(names)\n",
    "    for x in comb_reader:\n",
    "        assert(len(x)==6)\n",
    "        if \"wulczyn2017en\" in x[3]:\n",
    "            all_data.append(re.sub(\"[^a-zA-Z0-9]\",\"\",x[4]))"
   ]
  },
  {
   "cell_type": "code",
   "execution_count": 19,
   "id": "889dbd65-3685-4166-964a-12939a555fb8",
   "metadata": {},
   "outputs": [
    {
     "name": "stderr",
     "output_type": "stream",
     "text": [
      "159571it [00:11, 14321.99it/s]\n",
      "63978it [00:04, 14118.84it/s]\n"
     ]
    }
   ],
   "source": [
    "import bz2\n",
    "import json\n",
    "import tqdm\n",
    "\n",
    "all_wikidata=[]\n",
    "for fname in [\"wiki/train_en.jsonl.bz2\",\"wiki/test_en.jsonl.bz2\"]:\n",
    "    with bz2.open(fname,\"rt\") as f:\n",
    "        for line in tqdm.tqdm(f):\n",
    "            d=json.loads(line)\n",
    "            all_wikidata.append(re.sub(\"[^a-zA-Z0-9]\",\"\",d[\"text\"]))"
   ]
  },
  {
   "cell_type": "code",
   "execution_count": 20,
   "id": "6442f783-3b9d-4d8c-8c12-be94b8efa44b",
   "metadata": {},
   "outputs": [
    {
     "data": {
      "text/plain": [
       "119370"
      ]
     },
     "execution_count": 20,
     "metadata": {},
     "output_type": "execute_result"
    }
   ],
   "source": [
    "len(set(all_data)&set(all_wikidata))"
   ]
  }
 ],
 "metadata": {
  "kernelspec": {
   "display_name": "Python 3",
   "language": "python",
   "name": "python3"
  },
  "language_info": {
   "codemirror_mode": {
    "name": "ipython",
    "version": 3
   },
   "file_extension": ".py",
   "mimetype": "text/x-python",
   "name": "python",
   "nbconvert_exporter": "python",
   "pygments_lexer": "ipython3",
   "version": "3.8.10"
  }
 },
 "nbformat": 4,
 "nbformat_minor": 5
}
